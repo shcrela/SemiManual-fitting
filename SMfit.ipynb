{
 "cells": [
  {
   "cell_type": "markdown",
   "metadata": {},
   "source": [
    "## This notebook should permit you to fit your experimental curve with pseudo-voigt peaks. Your curve should be baseline-corrected.##\n",
    "This procedure allows you to manually determine reasonable initial parameters to pass on to scipy optimize module.\n",
    "\n",
    "**Instructions:** \n",
    "1. Left-click on the graph to add one pseudo-voigt profile at a time.\n",
    "    -  Once the profile added, you can modify its width by scrolling the mouse wheel.\n",
    "2. Repeat the procedure as many times as needed to account for all the peaks.\n",
    "- Right-clicking any time, will draw the sum of all the present profiles you added up to that moment.\n",
    "- Left clicking on the top of existing peak erases it."
   ]
  },
  {
   "cell_type": "code",
   "execution_count": 7,
   "metadata": {},
   "outputs": [],
   "source": [
    "import numpy as np\n",
    "%matplotlib widget\n",
    "import matplotlib.pyplot as plt\n",
    "\n",
    "plt.style.use('bmh')\n",
    "from matplotlib.patches import Ellipse\n",
    "from cycler import cycler\n",
    "from IPython.display import display\n",
    "from ipywidgets import widgets\n",
    "\n",
    "\n",
    "\n",
    "def pv(x, A=30, center=0, w=10, offset=0, factor=0.5):\n",
    "    '''Manualy created pseudo-Voigt profile\n",
    "    Parameters:\n",
    "    ------------\n",
    "    x: Independent variable\n",
    "    A: Amplitude of the profile (in this case it coincides with the area of the profile.\n",
    "        To retreive the height, you need to do some arithmethics:\n",
    "            height = (((1-factor)*A)/(w*sqrt(pi/log(2)))+(factor*A)/(pi*w))\n",
    "            or (0.3989423*A/w) for purely gaussian profile\n",
    "    center: The position of the peak on the x-axis\n",
    "    w: The measure of the width of the profile, usually called sigma. To retreive the width at half-height, you should try: height = 2.0*w, or 2.3548200*w for purely gaussian profile\n",
    "    offset: well, the offset (note that it isn't really usefull here, since your data is considered to be baseline-substracted)\n",
    "    factor: the ratio of lorentz vs gauss in the peak\n",
    "    Returns:\n",
    "    y-array of the same shape as the input x-array\n",
    "    '''\n",
    "    return(offset + A*(factor*((2/np.pi)*w/(4*(x - center)**2 + w**2)) + (1 - factor)*np.sqrt(4*np.log(2))/(w*np.sqrt(np.pi))*np.exp(-4*np.log(2)/(w**2) * (x-center)**2)))\n",
    "\n",
    "def fitting_function(x, *params):\n",
    "    '''\n",
    "    The function giving the sum of the pseudo-Voigt peaks.\n",
    "    Parameters:\n",
    "    *params: is a list of parameters. Its length is = \"number of peaks\" * 5, where 5 is the number of parameters in the \"pv\" function.\n",
    "    Look in the docstring of pv function for more info on theese.\n",
    "    '''\n",
    "    result = np.zeros_like(x, dtype=np.float)   \n",
    "    for i in range(0, len(params), 5):\n",
    "        result += pv(x, *params[i:i+5]) # A, c, w, o, r)\n",
    "    return result"
   ]
  },
  {
   "cell_type": "code",
   "execution_count": 8,
   "metadata": {},
   "outputs": [],
   "source": [
    "# Creating some data...\n",
    "# You should replace this whole cell with loading your own data \n",
    "# Yyou should provide x and y as numpy arrays of shape (\"length of data\", )\n",
    "\n",
    "\n",
    "dummy_params = [51, 200, 85, 0, 0.7, \n",
    " 4, 272, 37, 0, 0.8, \n",
    " 2.7, 317, 39, 0, 0.52, \n",
    " 3.9, 471, 62, 0, 0.25]\n",
    "\n",
    "dummy_x = np.arange(0,584, 1.34)\n",
    "dummy_y = fitting_function(dummy_x, *dummy_params)\n",
    "dummy_y += np.random.random(len(dummy_x))*np.mean(dummy_y)/5\n",
    "\n",
    "\n",
    "x = dummy_x\n",
    "y = dummy_y"
   ]
  },
  {
   "cell_type": "code",
   "execution_count": 9,
   "metadata": {},
   "outputs": [
    {
     "data": {
      "application/vnd.jupyter.widget-view+json": {
       "model_id": "7bdcdf57d24d403e9767627b56e72eb5",
       "version_major": 2,
       "version_minor": 0
      },
      "text/plain": [
       "FigureCanvasNbAgg()"
      ]
     },
     "metadata": {},
     "output_type": "display_data"
    },
    {
     "data": {
      "application/vnd.jupyter.widget-view+json": {
       "model_id": "ee5513b9a92a45a189abddae4c10621c",
       "version_major": 2,
       "version_minor": 0
      },
      "text/plain": [
       "Output()"
      ]
     },
     "metadata": {},
     "output_type": "display_data"
    }
   ],
   "source": [
    "# Setting some sensible values to be used afterwards, for example for point size (normally, no need to change theese):\n",
    "nx = 80\n",
    "rapport = 100\n",
    "\n",
    "\n",
    "# Setting up the plot:\n",
    "fig, ax = plt.subplots(figsize=(16,8))\n",
    "ax.plot(x, y, 'k', lw=4) # initial plot of your data\n",
    "\n",
    "\n",
    "x_size = (ax.get_xlim()[1] - ax.get_xlim()[0])/rapport\n",
    "y_size = 2*(ax.get_ylim()[1] - ax.get_ylim()[0])/rapport\n",
    "\n",
    "\n",
    "\n",
    "\n",
    "\n",
    "\n",
    "\n",
    "plt.rcParams[\"axes.prop_cycle\"] = cycler('color', \n",
    "                    ['#332288', '#CC6677', '#DDCC77', '#117733', '#88CCEE', '#AA4499', \n",
    "                     '#44AA99', '#999933', '#882255', '#661100', '#6699CC', '#AA4466']) # this sets up the color palette to be used for plotting lines\n",
    "\n",
    "cycle = plt.rcParams['axes.prop_cycle'].by_key()['color']\n",
    "\n",
    "\n",
    "\n",
    "# Initiating variables to which we will atribute peak caractéristics\n",
    "pic = {}\n",
    "pic['line']=[] # List containing matplotlib.Line2D object for each peak\n",
    "pic['A']=[] # List that will contain amplitudes of each peak\n",
    "pic['center']=[] # List that will contain central positions of each peak\n",
    "pic['w']=[] # List containing widths\n",
    "pic['fill']=[]\n",
    "it=0 # Iterator used normally for counting right clicks (each right click launches the plot of the cumulative curbe)\n",
    "sum_peak=[] # List of cumulated graphs (used later for updating while removing previous one)\n",
    "peaks_present = 0\n",
    "cid3=[]\n",
    "scroll_count=0 # counter to store the cumulative values of scrolling\n",
    "indice = 0\n",
    "artists = []\n",
    "clicked_indice = -1\n",
    "\n",
    "\n",
    "\n",
    "output = widgets.Output()\n",
    "@output.capture()\n",
    "def onclick(event):\n",
    "    global it, peaks_present, scroll_count, indice, x_size, y_size, clicked_indice, x\n",
    "    if event.inaxes == ax:\n",
    "        if event.button==1:\n",
    "            click_in_artist = [artist.contains(event)[0] for artist in artists]\n",
    "            if not any(click_in_artist):\n",
    "                indice += 1\n",
    "                peaks_present += 1\n",
    "                artists.append(ax.add_artist(Ellipse((event.xdata, event.ydata), x_size, y_size, alpha=0.5, picker=max(x_size, y_size), gid=indice)))\n",
    "                A = 1.27*x_size*event.ydata\n",
    "                center=event.xdata\n",
    "                yy = pv(x=x, A=A, center=center, w=x_size)\n",
    "                #ax.set_ylim(auto=True)\n",
    "                pic['A'].append(A)\n",
    "                pic['center'].append(center)\n",
    "                pic['line'].append(ax.plot(x, yy, alpha=0.75, lw=2.5, picker=5))\n",
    "                pic['w'].append(x_size)\n",
    "                #ax.fill_between(x, yy.min(), yy, alpha=0.3, color=cycle[peaks_present])\n",
    "\n",
    "            else:\n",
    "                clicked_indice = click_in_artist.index(True)\n",
    "\n",
    "                artists[clicked_indice].remove()\n",
    "                artists.pop(clicked_indice)\n",
    "                ax.lines[clicked_indice+1].remove()\n",
    "                pic['line'].pop(clicked_indice)\n",
    "                pic['center'].pop(clicked_indice)\n",
    "                pic['A'].pop(clicked_indice)\n",
    "                pic['w'].pop(clicked_indice)\n",
    "                fig.canvas.draw_idle()\n",
    "                #print(ax.artists)\n",
    "\n",
    "\n",
    "\n",
    "\n",
    "        elif event.button == 3 and not event.step: # On my laptop middle click and right click have the same values (?!)\n",
    "            if it>0: # Checks if there is already a cumulated graph plotted\n",
    "                ax.lines.remove(sum_peak[-1][0]) # remove the last cumulated graph from the figure\n",
    "                sum_peak.pop()\n",
    "            # Sum all the y values from all the peaks:\n",
    "            sumy = np.sum(np.asarray([pic['line'][i][0].get_ydata() for i in range(len(pic['line'][:]))]), axis=0)\n",
    "            if sumy.shape == x.shape: # Added this condition for the case where you removed all peaks, but the cumulated graph is left, then right-clicking need to remove that one\n",
    "                sum_peak.append(ax.plot(x, sumy, '--', color='lightgreen', lw=3, alpha=0.6)) # plot the cumulated graph \n",
    "                it+=1 # One cumulated graph added\n",
    "            else:\n",
    "                it-=1 # if you right clicked on the graph with no peaks, you removed the cumulated graph as well\n",
    "\n",
    "        if event.step != 0:\n",
    "            if peaks_present:\n",
    "                peak_identifier = -1 # means that scrolling will only affect the last plotted peak \n",
    "                '''(this may change in the future so to permit the user to modify whatewer peak's widht he wishes to adjust)\n",
    "                This however turns out to be a bit too difficult to acheive. For now, I'll settle with this version, where, if you want to readjust some previously placed peak, you need in fact to repace it with a new one.\n",
    "                (you can first add the new one on the position that you think is better, adjust it's width, and then remove the one you didn't like by clicking on it's top)'''\n",
    "\n",
    "\n",
    "                scroll_count += x_size*event.step/5 # This adjust the \"speed\" of width change with scrolling (event.step value seems to depend on the backend)\n",
    "\n",
    "                #ax.collections.pop(peak_identifier)\n",
    "\n",
    "                if scroll_count > -x_size+0.01:\n",
    "                    w2 = x_size + scroll_count\n",
    "                else:\n",
    "                    w2 = 0.01\n",
    "                    scroll_count = -x_size+0.01 # This doesn't allow you to sroll to negative values (basic width is x_size)\n",
    "\n",
    "                center2=pic['center'][peak_identifier]\n",
    "                A2 = pic['A'][peak_identifier]*w2/x_size # In order to keep the Height unchanged (A (from amplitude), as defined here, is proportional to the area)\n",
    "                \n",
    "                pic['w'][peak_identifier]= w2\n",
    "                yy = pv(x=x, center=center2, A=A2, w=w2)\n",
    "                active_line = pic['line'][peak_identifier][0]\n",
    "                active_line.set_ydata(yy) # This updates the values on the peak identified by \"peak_identifier\" (last peak for -1). \n",
    "                ax.draw_artist(active_line)\n",
    "                if peak_identifier > -1:\n",
    "                    cycle_indice = peak_identifier\n",
    "                else:\n",
    "                    cycle_indice = indice\n",
    "                #pic['fill'].append(ax.fill_between(x, 0, yy, alpha=0.3, color=cycle[cycle_indice]))\n",
    "                #fig.canvas.draw_idle()\n",
    "        #print(f'axartists = {ax.artists}\\n artists = {artists}\\n\\n{pic}\\n\\n axlines = {ax.lines}\\n{\"kraj\":=<60s}\\n\\n')\n",
    "        #print(pic)        \n",
    "ax.set_title('Left-click to add/remove peaks, Scroll to adjust width, Right-click to draw the sum')    \n",
    "cid = fig.canvas.mpl_connect('button_press_event', onclick)\n",
    "cid2 = fig.canvas.mpl_connect('scroll_event', onclick)#scroll)\n",
    "display(output)"
   ]
  },
  {
   "cell_type": "code",
   "execution_count": 10,
   "metadata": {},
   "outputs": [],
   "source": [
    "from copy import copy\n",
    "from itertools import chain\n",
    "from scipy.optimize import curve_fit\n",
    "\n",
    "manualfit_components = [copy(line[0].get_data()[1]) for line in pic['line']] # recovering the y values of each peak (not really useful)\n",
    "\n",
    "N_peaks = len(manualfit_components)\n",
    "\n",
    "manualfit_components_params =  copy(list(map(list, zip([A*w/x_size for A, w in list(zip(pic['A'], pic['w']))], pic['center'], pic['w'], [0]*N_peaks, [0.5]*N_peaks)))) # creating the list of initial parameters from your manual input (as a list of lists)\n",
    "manualfit_components_params = list(chain(*manualfit_components_params)) # to transform the list of lists into one single list\n",
    "\n",
    "manualfit = np.sum(np.asarray(manualfit_components), axis=0) # the sum of manually created peaks\n",
    "\n",
    "    "
   ]
  },
  {
   "cell_type": "code",
   "execution_count": 11,
   "metadata": {},
   "outputs": [],
   "source": [
    "# Setting the bounds based on your input (you can play with this part if you feel like it, but leaving it as it is should be ok) \n",
    "\n",
    "# set the initial bounds as infinities:\n",
    "upper_bounds = np.ones(len(manualfit_components_params))*np.inf\n",
    "lower_bounds = np.ones(len(manualfit_components_params))*(-np.inf)\n",
    "\n",
    "# setting reasonable bounds for the peak amplitude as a portion to your manual estimate \n",
    "upper_bounds[0::5]=[A*1.2 for A in manualfit_components_params[0::5]]\n",
    "lower_bounds[0::5]=[A*0.8 for A in manualfit_components_params[0::5]]\n",
    "\n",
    "# setting reasonable bounds for the peak position as a shift to your manual position \n",
    "upper_bounds[1::5]=[shift + x_size for shift in manualfit_components_params[1::5]]\n",
    "lower_bounds[1::5]=[shift - x_size for shift in manualfit_components_params[1::5]]\n",
    "\n",
    "# setting the bounds for the widths\n",
    "upper_bounds[2::5]=[width*1.10 for width in manualfit_components_params[2::5]]\n",
    "lower_bounds[2::5]=[width*0.9 for width in manualfit_components_params[2::5]]\n",
    "\n",
    "# setting the bounds for the offsets\n",
    "upper_bounds[3::5]=y_size*5\n",
    "lower_bounds[3::5]=0\n",
    "\n",
    "# setting the bounds for the lorentz/gauss ratio\n",
    "upper_bounds[4::5]=1\n",
    "lower_bounds[4::5]=0\n",
    "\n",
    "\n",
    "bounds = (lower_bounds, upper_bounds)"
   ]
  },
  {
   "cell_type": "code",
   "execution_count": 12,
   "metadata": {},
   "outputs": [
    {
     "data": {
      "application/vnd.jupyter.widget-view+json": {
       "model_id": "0d2db923737d4425b982abf3420a958a",
       "version_major": 2,
       "version_minor": 0
      },
      "text/plain": [
       "FigureCanvasNbAgg()"
      ]
     },
     "metadata": {},
     "output_type": "display_data"
    },
    {
     "data": {
      "text/plain": [
       "Text(0.5, 1.0, 'After fitting')"
      ]
     },
     "execution_count": 12,
     "metadata": {},
     "output_type": "execute_result"
    }
   ],
   "source": [
    "# The fitting part:    \n",
    "a, b = curve_fit(fitting_function, x, y, p0=manualfit_components_params, bounds=bounds)\n",
    "# Strangely enough, adding the bounds does not improve significantly the efficiency of the procedure. \n",
    "# Note however that since the offset parametar here doesn't really play any role, not using the bounds will give you some strange values for it.\n",
    "\n",
    "\n",
    "figg, axx, = plt.subplots(figsize=(16, 12))\n",
    "figg.subplots_adjust(bottom=0.2)\n",
    "donja = figg.add_axes([0.125, 0.05, 0.775, 0.1])\n",
    "donja.set_facecolor('w')\n",
    "\n",
    "axx.plot(x, fitting_function(x, *manualfit_components_params), '--r', alpha=0.5, label='initial manual fit')\n",
    "axx.plot(x, y, 'k', alpha=0.6, lw=3, label='original data')\n",
    "axx.plot(x, fitting_function(x, *a), '.', color='limegreen', lw=3, label='after optimization')\n",
    "axx.legend()\n",
    "\n",
    "donja.scatter(x, y-fitting_function(x, *a))\n",
    "donja.set_ylabel('error')\n",
    "axx.set_title('After fitting')"
   ]
  },
  {
   "cell_type": "code",
   "execution_count": 14,
   "metadata": {},
   "outputs": [
    {
     "data": {
      "application/vnd.jupyter.widget-view+json": {
       "model_id": "d926b6546ed6466a954d4513c600f68c",
       "version_major": 2,
       "version_minor": 0
      },
      "text/plain": [
       "FigureCanvasNbAgg()"
      ]
     },
     "metadata": {},
     "output_type": "display_data"
    },
    {
     "name": "stdout",
     "output_type": "stream",
     "text": [
      "Peak_0 - Manually found Amplitude           :    53.43  ------->  After fitting :      52.03 ±     1.12 ::::::: dummy params :    51.00\n",
      "Peak_0 - Manually found Center              :   198.83  ------->  After fitting :     199.38 ±     0.54 ::::::: dummy params :   200.00\n",
      "Peak_0 - Manually found Width               :    93.61  ------->  After fitting :      85.19 ±     1.07 ::::::: dummy params :    85.00\n",
      "Peak_0 - Manually found Offset              :     0.00  ------->  After fitting :       0.00 ±     0.00 ::::::: dummy params :     0.00\n",
      "Peak_0 - Manually found Ratio Lorenz/Gauss  :     0.50  ------->  After fitting :       0.72 ±     0.03 ::::::: dummy params :     0.70\n",
      "Peak_1 - Manually found Amplitude           :     5.49  ------->  After fitting :       4.40 ±     2.19 ::::::: dummy params :     4.00\n",
      "Peak_1 - Manually found Center              :   269.67  ------->  After fitting :     270.51 ±     0.81 ::::::: dummy params :   272.00\n",
      "Peak_1 - Manually found Width               :    46.17  ------->  After fitting :      41.55 ±     6.84 ::::::: dummy params :    37.00\n",
      "Peak_1 - Manually found Offset              :     0.00  ------->  After fitting :       0.00 ±     0.00 ::::::: dummy params :     0.00\n",
      "Peak_1 - Manually found Ratio Lorenz/Gauss  :     0.50  ------->  After fitting :       0.97 ±     0.47 ::::::: dummy params :     0.80\n",
      "Peak_2 - Manually found Amplitude           :     4.71  ------->  After fitting :       3.77 ±     1.08 ::::::: dummy params :     2.70\n",
      "Peak_2 - Manually found Center              :   311.04  ------->  After fitting :     315.63 ±     1.45 ::::::: dummy params :   317.00\n",
      "Peak_2 - Manually found Width               :    50.01  ------->  After fitting :      45.01 ±     4.76 ::::::: dummy params :    39.00\n",
      "Peak_2 - Manually found Offset              :     0.00  ------->  After fitting :       0.00 ±     0.00 ::::::: dummy params :     0.00\n",
      "Peak_2 - Manually found Ratio Lorenz/Gauss  :     0.50  ------->  After fitting :       1.00 ±     0.15 ::::::: dummy params :     0.52\n",
      "Peak_3 - Manually found Amplitude           :     6.69  ------->  After fitting :       5.35 ±     0.43 ::::::: dummy params :     3.90\n",
      "Peak_3 - Manually found Center              :   471.34  ------->  After fitting :     471.93 ±     0.72 ::::::: dummy params :   471.00\n",
      "Peak_3 - Manually found Width               :    71.81  ------->  After fitting :      64.63 ±     2.49 ::::::: dummy params :    62.00\n",
      "Peak_3 - Manually found Offset              :     0.00  ------->  After fitting :       0.00 ±     0.00 ::::::: dummy params :     0.00\n",
      "Peak_3 - Manually found Ratio Lorenz/Gauss  :     0.50  ------->  After fitting :       0.69 ±     0.15 ::::::: dummy params :     0.25\n"
     ]
    }
   ],
   "source": [
    "greska = np.sqrt(np.diag(b))\n",
    "plt.figure(figsize=(16,12))\n",
    "plt.plot(x, y, lw=4, c='k')\n",
    "#plt.plot(manualfit, '--y', lw=3, alpha=0.6)\n",
    "for i in range(len(manualfit_components)):\n",
    "    plt.plot(x, pv(x, *a[i*5:i*5+5])-a[i*5+3], alpha=0.5, label=[f\"{prd:.2f}\\U000000B1{krk:.1f}\" for prd, krk in list(zip(a[i*5:i*5+5], greska[i*5:i*5+5]))]) # offset is offset :)\n",
    "plt.legend()\n",
    "plt.title('Showing the individual peaks as found by fitting procedure')\n",
    "\n",
    "\n",
    "parametar_names = ['Amplitude', 'Center', 'Width', 'Offset', 'Ratio Lorenz/Gauss']\n",
    "if not dummy_params:\n",
    "    dummy_params = [0]*5*N_peaks\n",
    "for i in range(len(a)):\n",
    "    print(f\"Peak_{i//5} - Manually found {parametar_names[i%5]:<20s}: {manualfit_components_params[i]:8.2f}  ------->  After fitting :   {a[i]:8.2f} \\U000000B1 {greska[i]:8.2f} ::::::: dummy params : {dummy_params[i]:8.2f}\")"
   ]
  },
  {
   "cell_type": "code",
   "execution_count": null,
   "metadata": {},
   "outputs": [],
   "source": [
    "plt.close('all')"
   ]
  }
 ],
 "metadata": {
  "kernelspec": {
   "display_name": "Python 3",
   "language": "python",
   "name": "python3"
  },
  "language_info": {
   "codemirror_mode": {
    "name": "ipython",
    "version": 3
   },
   "file_extension": ".py",
   "mimetype": "text/x-python",
   "name": "python",
   "nbconvert_exporter": "python",
   "pygments_lexer": "ipython3",
   "version": "3.7.3"
  }
 },
 "nbformat": 4,
 "nbformat_minor": 2
}
